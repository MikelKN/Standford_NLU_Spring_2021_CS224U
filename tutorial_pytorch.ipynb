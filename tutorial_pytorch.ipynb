{
  "cells": [
    {
      "cell_type": "markdown",
      "metadata": {
        "id": "view-in-github",
        "colab_type": "text"
      },
      "source": [
        "<a href=\"https://colab.research.google.com/github/MikelKN/Standford_NLU_Spring_2021_CS224U/blob/master/tutorial_pytorch.ipynb\" target=\"_parent\"><img src=\"https://colab.research.google.com/assets/colab-badge.svg\" alt=\"Open In Colab\"/></a>"
      ]
    },
    {
      "cell_type": "markdown",
      "metadata": {
        "id": "Z0J1AZCFkGs5"
      },
      "source": [
        "# Tutorial: PyTorch"
      ]
    },
    {
      "cell_type": "code",
      "source": [
        "from google.colab import drive\n",
        "drive.mount('/content/drive')"
      ],
      "metadata": {
        "id": "fe3URYrelJ-Y",
        "outputId": "ed187a7a-50e9-4510-f3f5-6f0c5ea13371",
        "colab": {
          "base_uri": "https://localhost:8080/"
        }
      },
      "execution_count": 2,
      "outputs": [
        {
          "output_type": "stream",
          "name": "stdout",
          "text": [
            "Mounted at /content/drive\n"
          ]
        }
      ]
    },
    {
      "cell_type": "code",
      "execution_count": 3,
      "metadata": {
        "id": "LexyhWkwkGtC"
      },
      "outputs": [],
      "source": [
        "__author__ = \"Ignacio Cases\"\n",
        "__version__ = \"CS224u, Stanford, Spring 2021\""
      ]
    },
    {
      "cell_type": "markdown",
      "metadata": {
        "id": "wwB3e-h3kGtF"
      },
      "source": [
        "## Contents\n",
        "\n",
        "1. [Motivation](#Motivation)\n",
        "1. [Importing PyTorch](#Importing-PyTorch)\n",
        "1. [Tensors](#Tensors)\n",
        "  1. [Tensor creation](#Tensor-creation)\n",
        "  1. [Operations on tensors](#Operations-on-tensors)\n",
        "1. [GPU computation](#GPU-computation)\n",
        "1. [Neural network foundations](#Neural-network-foundations)\n",
        "  1. [Automatic differentiation](#Automatic-differentiation)\n",
        "  1. [Modules](#Modules)\n",
        "  1. [Sequential](#Sequential)\n",
        "  1. [Criteria and loss functions](#Criteria-and-loss-functions)\n",
        "  1. [Optimization](#Optimization)\n",
        "  1. [Training a simple model](#Training-a-simple-model)\n",
        "1. [Reproducibility](#Reproducibility)\n",
        "1. [References](#References)"
      ]
    },
    {
      "cell_type": "markdown",
      "metadata": {
        "id": "zJpQqVExkGtG"
      },
      "source": [
        "## Motivation"
      ]
    },
    {
      "cell_type": "markdown",
      "metadata": {
        "id": "AuAuC375kGtH"
      },
      "source": [
        "PyTorch is a Python package designed to carry out scientific computation. We use PyTorch in a range of different environments: local model development, large-scale deployments on big clusters, and even _inference_ in embedded, low-power systems. While similar in many aspects to NumPy, PyTorch enables us to perform fast and efficient training of deep learning and reinforcement learning models not only on the CPU but also on a GPU or other ASICs (Application Specific Integrated Circuits) for AI, such as Tensor Processing Units (TPU)."
      ]
    },
    {
      "cell_type": "markdown",
      "metadata": {
        "id": "0RDPvmq7kGtI"
      },
      "source": [
        "## Importing PyTorch"
      ]
    },
    {
      "cell_type": "markdown",
      "metadata": {
        "id": "egf95ScXkGtI"
      },
      "source": [
        "This tutorial assumes a working installation of PyTorch using your `nlu` environment, but the content applies to any regular installation of PyTorch. If you don't have a working installation of PyTorch, please follow the instructions in [the setup notebook](setup.ipynb).\n",
        "\n",
        "To get started working with PyTorch we simply begin by importing the torch module:"
      ]
    },
    {
      "cell_type": "code",
      "execution_count": 4,
      "metadata": {
        "id": "GygF0kWZkGtK"
      },
      "outputs": [],
      "source": [
        "import torch"
      ]
    },
    {
      "cell_type": "markdown",
      "metadata": {
        "id": "QkuhnzC1kGtM"
      },
      "source": [
        "**Side note**: why not `import pytorch`? The name of the package is `torch` for historical reasons: `torch` is the orginal name of the ancestor of the PyTorch library that got started back in 2002 as a C library with Lua scripting. It was only much later that the original `torch` was ported to Python. The PyTorch project decided to prefix the Py to make clear that this library refers to the Python version, as it was confusing back then to know which `torch` one was referring to. All the internal references to the library use just `torch`. It's possible that PyTorch will be renamed at some point, as the original `torch` is no longer maintained and there is no longer confusion."
      ]
    },
    {
      "cell_type": "markdown",
      "metadata": {
        "id": "WfpSFg1nkGtO"
      },
      "source": [
        "We can see the version installed and determine whether or not we have a GPU-enabled PyTorch install by issuing"
      ]
    },
    {
      "cell_type": "code",
      "execution_count": 5,
      "metadata": {
        "id": "l7818UipkGtQ",
        "outputId": "3a885743-ed30-458e-ff64-956ea854c4d5",
        "colab": {
          "base_uri": "https://localhost:8080/"
        }
      },
      "outputs": [
        {
          "output_type": "stream",
          "name": "stdout",
          "text": [
            "PyTorch version 1.10.0+cu111\n",
            "GPU-enabled installation? True\n"
          ]
        }
      ],
      "source": [
        "print(\"PyTorch version {}\".format(torch.__version__))\n",
        "print(\"GPU-enabled installation? {}\".format(torch.cuda.is_available()))"
      ]
    },
    {
      "cell_type": "markdown",
      "metadata": {
        "id": "H9Lsy0tXkGtR"
      },
      "source": [
        "PyTorch has good [documentation](https://pytorch.org/docs/stable/index.html) but it can take some time to familiarize oneself with the structure of the package; it's worth the effort to do so!\n",
        "\n",
        "We will also make use of other imports:"
      ]
    },
    {
      "cell_type": "code",
      "execution_count": 6,
      "metadata": {
        "id": "Yc8ARp4WkGtT"
      },
      "outputs": [],
      "source": [
        "import numpy as np"
      ]
    },
    {
      "cell_type": "markdown",
      "metadata": {
        "id": "4vUojozZkGtT"
      },
      "source": [
        "## Tensors"
      ]
    },
    {
      "cell_type": "markdown",
      "metadata": {
        "id": "dRlWqiSQkGtU"
      },
      "source": [
        "Tensors collections of numbers represented as an array, and are the basic building blocks in PyTorch.\n",
        "\n",
        "You are probably already familiar with several types of tensors:\n",
        "    \n",
        "- A scalar, a single number, is a zero-th order tensor.\n",
        "    \n",
        "- A column vector $v$ of dimensionality $d_c \\times 1$ is a tensor of order 1.\n",
        "    \n",
        "- A row vector $x$ of dimensionality $1 \\times d_r$ is a tensor of order 1.\n",
        "    \n",
        "- A matrix $A$ of dimensionality $d_r \\times d_c$ is a tensor of order 2.\n",
        "    \n",
        "- A cube $T$ of dimensionality $d_r \\times d_c \\times d_d$ is a tensor of order 3. \n",
        "\n",
        "Tensors are the fundamental blocks that carry information in our mathematical models, and they are composed using several operations to create mathematical graphs in which information can flow (propagate) forward (functional application) and backwards (using the chain rule). \n",
        "\n",
        "We have seen multidimensional arrays in NumPy. These NumPy objects are also a representation of tensors."
      ]
    },
    {
      "cell_type": "markdown",
      "metadata": {
        "id": "Tu7bbv5hkGtV"
      },
      "source": [
        "**Side note**: what is a tensor __really__? Tensors are important mathematical objects with applications in multiple domains in mathematics and physics. The term \"tensor\" comes from the usage of these mathematical objects to describe the stretching of a volume of matter under *tension*. They are central objects of study in a subfield of mathematics known as differential geometry, which deals with the geometry of continuous vector spaces. As a very high-level summary (and as first approximation), tensors are defined as multi-linear \"machines\" that have a number of slots (their order, a.k.a. rank), taking a number of \"column\" vectors and \"row\" vectors *to produce a scalar*. For example, a tensor $\\mathbf{A}$ (represented by a matrix with rows and columns that you could write on a sheet of paper) can be thought of having two slots. So when $\\mathbf{A}$ acts upon a column vector $\\mathbf{v}$ and a row vector $\\mathbf{x}$, it returns a scalar:\n",
        "    \n",
        "$$\\mathbf{A}(\\mathbf{x}, \\mathbf{v}) = s$$\n",
        "    \n",
        "If $\\mathbf{A}$ only acts on the column vector, for example, the result will be another column tensor $\\mathbf{u}$ of one order less than the order of $\\mathbf{A}$. Thus, when $\\mathbf{v}$ acts is similar to \"removing\" its slot: \n",
        "\n",
        "$$\\mathbf{u} = \\mathbf{A}(\\mathbf{v})$$\n",
        "\n",
        "The resulting $\\mathbf{u}$ can later interact with another row vector to produce a scalar or be used in any other way. \n",
        "\n",
        "This can be a very powerful way of thinking about tensors, as their slots can guide you when writing code, especially given that PyTorch has a _functional_ approach to modules in which this view is very much highlighted. As we will see below, these simple equations above have a completely straightforward representation in the code. In the end, most of what our models will do is to process the input using this type of functional application so that we end up having a tensor output and a scalar value that measures how good our output is with respect to the real output value in the dataset."
      ]
    },
    {
      "cell_type": "markdown",
      "metadata": {
        "id": "0pn47taVkGtW"
      },
      "source": [
        "### Tensor creation"
      ]
    },
    {
      "cell_type": "markdown",
      "metadata": {
        "id": "yNfAL0dCkGtW"
      },
      "source": [
        "Let's get started with tensors in PyTorch. The framework supports eight different types ([Lapan 2018](#References)):\n",
        "\n",
        "- 3 float types (16-bit, 32-bit, 64-bit): `torch.FloatTensor` is the class name for the commonly used 32-bit tensor.\n",
        "- 5 integer types (signed 8-bit, unsigned 8-bit, 16-bit, 32-bit, 64-bit): common tensors of these types are the 8-bit unsigned tensor `torch.ByteTensor` and the 64-bit `torch.LongTensor`.\n",
        "\n",
        "There are three fundamental ways to create tensors in PyTorch ([Lapan 2018](#References)):\n",
        "\n",
        "- Call a tensor constructor of a given type, which will create a non-initialized tensor. So we then need to fill this tensor later to be able to use it.\n",
        "- Call a built-in method in the `torch` module that returns a tensor that is already initialized.\n",
        "- Use the PyTorch–NumPy bridge."
      ]
    },
    {
      "cell_type": "markdown",
      "metadata": {
        "id": "KeFXuLVukGtW"
      },
      "source": [
        "#### Calling the constructor"
      ]
    },
    {
      "cell_type": "markdown",
      "metadata": {
        "id": "h_E1Zui_kGtX"
      },
      "source": [
        "Let's first create a 2 x 3 dimensional tensor of the type `float`:"
      ]
    },
    {
      "cell_type": "code",
      "execution_count": 7,
      "metadata": {
        "id": "5mp1t7HfkGtX",
        "outputId": "424af737-8d22-40c9-8964-dbb30879f4e8",
        "colab": {
          "base_uri": "https://localhost:8080/"
        }
      },
      "outputs": [
        {
          "output_type": "stream",
          "name": "stdout",
          "text": [
            "tensor([[4.7996e-23, 3.0701e-41, 3.7835e-44],\n",
            "        [0.0000e+00,        nan, 0.0000e+00]])\n",
            "torch.Size([2, 3])\n"
          ]
        }
      ],
      "source": [
        "t = torch.FloatTensor(2, 3)\n",
        "print(t)\n",
        "print(t.size())"
      ]
    },
    {
      "cell_type": "markdown",
      "metadata": {
        "id": "220KB0sDkGtY"
      },
      "source": [
        "Note that we specified the dimensions as the arguments to the constructor by passing the numbers directly – and not a list or a tuple, which would have very different outcomes as we will see below! We can always inspect the size of the tensor using the `size()` method.\n",
        "\n",
        "The constructor method allocates space in memory for this tensor. However, the tensor is *non-initialized*. In order to initialize it, we need to call any of the tensor initialization methods of the basic tensor types. For example, the tensor we just created has a built-in method `zero_()`:"
      ]
    },
    {
      "cell_type": "code",
      "execution_count": 8,
      "metadata": {
        "id": "yPZMRi5rkGtY",
        "outputId": "9e24a28b-5c36-4073-95f2-cc93c82f9d7b",
        "colab": {
          "base_uri": "https://localhost:8080/"
        }
      },
      "outputs": [
        {
          "output_type": "execute_result",
          "data": {
            "text/plain": [
              "tensor([[0., 0., 0.],\n",
              "        [0., 0., 0.]])"
            ]
          },
          "metadata": {},
          "execution_count": 8
        }
      ],
      "source": [
        "t.zero_()"
      ]
    },
    {
      "cell_type": "markdown",
      "metadata": {
        "id": "a8bnPaKdkGtZ"
      },
      "source": [
        "The underscore after the method name is important: it means that the operation happens _in place_: the returned object is the same object but now with different content. A very handy way to construct a tensor using the constructor happens when we have available the content we want to put in the tensor in the form of a Python iterable. In this case, we just pass it as the argument to the constructor:"
      ]
    },
    {
      "cell_type": "code",
      "execution_count": 9,
      "metadata": {
        "id": "rwwgs70IkGtZ",
        "outputId": "167a6d12-ee60-4db1-d633-9f529777a800",
        "colab": {
          "base_uri": "https://localhost:8080/"
        }
      },
      "outputs": [
        {
          "output_type": "execute_result",
          "data": {
            "text/plain": [
              "tensor([[1., 2., 3.],\n",
              "        [4., 5., 6.]])"
            ]
          },
          "metadata": {},
          "execution_count": 9
        }
      ],
      "source": [
        "torch.FloatTensor([[1, 2, 3], [4, 5, 6]])"
      ]
    },
    {
      "cell_type": "markdown",
      "metadata": {
        "id": "_rBaSZvVkGta"
      },
      "source": [
        "#### Calling a method in the torch module"
      ]
    },
    {
      "cell_type": "markdown",
      "metadata": {
        "id": "fkbd4K5_kGta"
      },
      "source": [
        "A very convenient way to create tensors, in addition to using the constructor method, is to use one of the multiple methods provided in the `torch` module. In particular, the `tensor` method allows us to pass a number or iterable as the argument to get the appropriately typed tensor:"
      ]
    },
    {
      "cell_type": "code",
      "execution_count": 10,
      "metadata": {
        "id": "DFBgiXpJkGtb",
        "outputId": "7114670c-d06b-4229-c662-c7b61094687d",
        "colab": {
          "base_uri": "https://localhost:8080/"
        }
      },
      "outputs": [
        {
          "output_type": "stream",
          "name": "stdout",
          "text": [
            "A 64-bit integer tensor: tensor([1, 2, 3]), torch.LongTensor\n",
            "A 32-bit float tensor: tensor([1., 2., 3.]), torch.FloatTensor\n"
          ]
        }
      ],
      "source": [
        "tl = torch.tensor([1, 2, 3])\n",
        "t = torch.tensor([1., 2., 3.])\n",
        "print(\"A 64-bit integer tensor: {}, {}\".format(tl, tl.type()))\n",
        "print(\"A 32-bit float tensor: {}, {}\".format(t, t.type()))"
      ]
    },
    {
      "cell_type": "markdown",
      "metadata": {
        "id": "22cDn2ohkGtb"
      },
      "source": [
        "We can create a similar 2x3 tensor to the one above by using the `torch.zeros()` method, passing a sequence of dimensions to it: "
      ]
    },
    {
      "cell_type": "code",
      "execution_count": 11,
      "metadata": {
        "id": "B1mlEPt4kGtc",
        "outputId": "24163954-9076-4fe4-ef5a-e3fa273b41ce",
        "colab": {
          "base_uri": "https://localhost:8080/"
        }
      },
      "outputs": [
        {
          "output_type": "stream",
          "name": "stdout",
          "text": [
            "tensor([[0., 0., 0.],\n",
            "        [0., 0., 0.]])\n"
          ]
        }
      ],
      "source": [
        "t = torch.zeros(2, 3)\n",
        "print(t)"
      ]
    },
    {
      "cell_type": "markdown",
      "metadata": {
        "id": "gwvw2uX2kGtc"
      },
      "source": [
        "There are many methods for creating tensors. We list some useful ones:"
      ]
    },
    {
      "cell_type": "code",
      "execution_count": 12,
      "metadata": {
        "id": "VO2JXZ--kGtd",
        "outputId": "e1a3d7cb-c61d-433d-8b4f-7d73329e9a4c",
        "colab": {
          "base_uri": "https://localhost:8080/"
        }
      },
      "outputs": [
        {
          "output_type": "stream",
          "name": "stdout",
          "text": [
            "tensor([[0., 0., 0.],\n",
            "        [0., 0., 0.]])\n",
            "tensor([[1., 1., 1.],\n",
            "        [1., 1., 1.]])\n",
            "tensor([[5., 5., 5.],\n",
            "        [5., 5., 5.]])\n",
            "tensor([[0.4995, 0.3017, 0.9320],\n",
            "        [0.3070, 0.8988, 0.4065]])\n",
            "tensor([[-1.1544,  1.7729,  0.9492],\n",
            "        [ 1.0631, -0.3088, -0.0861]])\n"
          ]
        }
      ],
      "source": [
        "t_zeros = torch.zeros_like(t)        # zeros_like returns a new tensor\n",
        "t_ones = torch.ones(2, 3)            # creates a tensor with 1s\n",
        "t_fives = torch.empty(2, 3).fill_(5) # creates a non-initialized tensor and fills it with 5\n",
        "t_random = torch.rand(2, 3)          # creates a uniform random tensor\n",
        "t_normal = torch.randn(2, 3)         # creates a normal random tensor\n",
        "\n",
        "print(t_zeros)\n",
        "print(t_ones)\n",
        "print(t_fives)\n",
        "print(t_random)\n",
        "print(t_normal)"
      ]
    },
    {
      "cell_type": "markdown",
      "metadata": {
        "id": "qIPiIlSHkGtf"
      },
      "source": [
        "We now see emerging two important paradigms in PyTorch. The _imperative_ approach to performing operations, using _inplace_ methods, is in marked contrast with an additional paradigm also used in PyTorch, the _functional_ approach, where the returned object is a copy of the original object. Both paradigms have their specific use cases as we will be seeing below. The rule of thumb is that _inplace_ methods are faster and don't require extra memory allocation in general, but they can be tricky to understand (keep this in mind regarding the computational graph that we will see below). _Functional_ methods make the code referentially transparent, which is a highly desired property that makes it easier to understand the underlying math, but we rely on the efficiency of the implementation:"
      ]
    },
    {
      "cell_type": "code",
      "execution_count": 13,
      "metadata": {
        "id": "2Q0jzuXOkGtf"
      },
      "outputs": [],
      "source": [
        "# creates a new copy of the tensor that is still linked to\n",
        "# the computational graph (see below)\n",
        "t1 = torch.clone(t)\n",
        "assert id(t) != id(t1), 'Functional methods create a new copy of the tensor'\n",
        "\n",
        "# To create a new _independent_ copy, we do need to detach\n",
        "# from the graph\n",
        "t1 = torch.clone(t).detach()"
      ]
    },
    {
      "cell_type": "markdown",
      "metadata": {
        "id": "G1yLEF0AkGtg"
      },
      "source": [
        "#### Using the PyTorch–NumPy bridge"
      ]
    },
    {
      "cell_type": "markdown",
      "metadata": {
        "id": "NSsgM4LJkGtg"
      },
      "source": [
        "A quite useful feature of PyTorch is its almost seamless integration with NumPy, which allows us to perform operations on NumPy and interact from PyTorch with the large number of NumPy libraries as well. Converting a NumPy multi-dimensional array into a PyTorch tensor is very simple: we only need to call the `tensor` method with NumPy objects as the argument:"
      ]
    },
    {
      "cell_type": "code",
      "execution_count": 14,
      "metadata": {
        "id": "EpyNBz0xkGth",
        "outputId": "5eb7106c-ad72-4bce-8ee1-b6a15155a53e",
        "colab": {
          "base_uri": "https://localhost:8080/"
        }
      },
      "outputs": [
        {
          "output_type": "stream",
          "name": "stdout",
          "text": [
            "NumPy array: [1. 2. 3.], type: float64\n",
            "Torch tensor: tensor([1., 2., 3.], dtype=torch.float64), type: torch.float64\n"
          ]
        }
      ],
      "source": [
        "# Create a new multi-dimensional array in NumPy with the np datatype (np.float32)\n",
        "a = np.array([1., 2., 3.])\n",
        "\n",
        "# Convert the array to a torch tensor\n",
        "t = torch.tensor(a)\n",
        "\n",
        "print(\"NumPy array: {}, type: {}\".format(a, a.dtype))\n",
        "print(\"Torch tensor: {}, type: {}\".format(t, t.dtype))"
      ]
    },
    {
      "cell_type": "markdown",
      "metadata": {
        "id": "orK4D3-1kGti"
      },
      "source": [
        "We can also seamlessly convert a PyTorch tensor into a NumPy array:"
      ]
    },
    {
      "cell_type": "code",
      "execution_count": 15,
      "metadata": {
        "id": "Lyhvtd31kGti",
        "outputId": "ab90ea9a-87e0-4f52-e44a-b5977f050173",
        "colab": {
          "base_uri": "https://localhost:8080/"
        }
      },
      "outputs": [
        {
          "output_type": "execute_result",
          "data": {
            "text/plain": [
              "array([1., 2., 3.])"
            ]
          },
          "metadata": {},
          "execution_count": 15
        }
      ],
      "source": [
        "t.numpy()"
      ]
    },
    {
      "cell_type": "markdown",
      "metadata": {
        "id": "2m9gznIfkGtj"
      },
      "source": [
        "**Side note**: why not `torch.from_numpy(a)`? The `from_numpy()` method is depecrated in favor of `tensor()`, which is a more capable method in the torch package. `from_numpy()` is only there for backwards compatibility. It can be a little bit quirky, so I recommend using the newer method in PyTorch >= 0.4."
      ]
    },
    {
      "cell_type": "markdown",
      "metadata": {
        "id": "nsJHClhJkGtj"
      },
      "source": [
        "#### Indexing"
      ]
    },
    {
      "cell_type": "markdown",
      "metadata": {
        "id": "YZ9t36D_kGtk"
      },
      "source": [
        "\n",
        "\n",
        "Indexing works as expected with NumPy:"
      ]
    },
    {
      "cell_type": "code",
      "execution_count": 16,
      "metadata": {
        "id": "5urZn8D4kGtk",
        "outputId": "13894200-f2b8-4b35-d20b-16ecf262d725",
        "colab": {
          "base_uri": "https://localhost:8080/"
        }
      },
      "outputs": [
        {
          "output_type": "execute_result",
          "data": {
            "text/plain": [
              "tensor([[1.8195, 1.2107, 0.0380],\n",
              "        [0.4832, 0.2382, 0.5529]])"
            ]
          },
          "metadata": {},
          "execution_count": 16
        }
      ],
      "source": [
        "t = torch.randn(2, 3)\n",
        "t"
      ]
    },
    {
      "cell_type": "code",
      "source": [
        "t[ : , 0]"
      ],
      "metadata": {
        "id": "ZFN4E6WjqKra",
        "outputId": "dcb14c09-baae-40a5-9c3a-b78c211dad1a",
        "colab": {
          "base_uri": "https://localhost:8080/"
        }
      },
      "execution_count": 17,
      "outputs": [
        {
          "output_type": "execute_result",
          "data": {
            "text/plain": [
              "tensor([1.8195, 0.4832])"
            ]
          },
          "metadata": {},
          "execution_count": 17
        }
      ]
    },
    {
      "cell_type": "markdown",
      "metadata": {
        "id": "lg0d7cBrkGtk"
      },
      "source": [
        "PyTorch also supports indexing using long tensors, for example:"
      ]
    },
    {
      "cell_type": "code",
      "execution_count": 18,
      "metadata": {
        "scrolled": true,
        "id": "R1Dnz5aFkGtk",
        "outputId": "6413c3c8-bad5-4c9e-e1c0-5cba51836ef9",
        "colab": {
          "base_uri": "https://localhost:8080/"
        }
      },
      "outputs": [
        {
          "output_type": "stream",
          "name": "stdout",
          "text": [
            "1.Here is the 5 x 6 tensor:\n",
            " tensor([[-0.6946,  0.6640, -0.5480,  0.7264, -0.0325, -0.1256],\n",
            "        [-1.7946,  0.9911, -1.9048, -0.4667,  1.4268, -0.6045],\n",
            "        [ 2.0186, -0.0920, -0.5726, -0.5973,  0.5528,  0.5218],\n",
            "        [-0.4066, -1.9056,  0.4173, -0.3047,  0.1401,  0.8185],\n",
            "        [ 0.4693,  1.3552,  1.8260,  0.7042, -0.8831, -2.4988]])\n",
            "\n",
            "2.Here is row 1 and 3 selected from the 5 x 6 tensor in 1. above:\n",
            " tensor([[-1.7946,  0.9911, -1.9048, -0.4667,  1.4268, -0.6045],\n",
            "        [-0.4066, -1.9056,  0.4173, -0.3047,  0.1401,  0.8185]])\n",
            "\n",
            "3.And here is column 5 Extracted from the tensor in 2. above:\n",
            " tensor([1.4268, 0.8185])\n"
          ]
        }
      ],
      "source": [
        "t = torch.randn(5, 6)\n",
        "print(\"1.Here is the 5 x 6 tensor:\\n\", t)\n",
        "i = torch.tensor([1, 3])\n",
        "j = torch.tensor([4, 5])\n",
        "print(\"\\n2.Here is row 1 and 3 selected from the 5 x 6 tensor in 1. above:\\n\", t[i])                          # selects rows 1 and 3\n",
        "print(\"\\n3.And here is column 5 Extracted from the tensor in 2. above:\\n\", t[i, j])                       # selects (1, 4) and (3, 5)"
      ]
    },
    {
      "cell_type": "markdown",
      "metadata": {
        "id": "a-vbUSXZkGtl"
      },
      "source": [
        "#### Type conversion"
      ]
    },
    {
      "cell_type": "markdown",
      "metadata": {
        "id": "buIka0HTkGtl"
      },
      "source": [
        "Each tensor has a set of convenient methods to convert types. For example, if we want to convert the tensor above to a 32-bit float tensor, we use the method `.float()`:"
      ]
    },
    {
      "cell_type": "code",
      "execution_count": 19,
      "metadata": {
        "id": "0CRq2Oi1kGtl",
        "outputId": "c06be25d-6a26-49ac-8de5-d7bf63b29694",
        "colab": {
          "base_uri": "https://localhost:8080/"
        }
      },
      "outputs": [
        {
          "output_type": "stream",
          "name": "stdout",
          "text": [
            "tensor([[-0.6946,  0.6640, -0.5480,  0.7264, -0.0325, -0.1256],\n",
            "        [-1.7946,  0.9911, -1.9048, -0.4667,  1.4268, -0.6045],\n",
            "        [ 2.0186, -0.0920, -0.5726, -0.5973,  0.5528,  0.5218],\n",
            "        [-0.4066, -1.9056,  0.4173, -0.3047,  0.1401,  0.8185],\n",
            "        [ 0.4693,  1.3552,  1.8260,  0.7042, -0.8831, -2.4988]])\n",
            "tensor([[-0.6946,  0.6640, -0.5480,  0.7264, -0.0325, -0.1256],\n",
            "        [-1.7946,  0.9911, -1.9048, -0.4667,  1.4268, -0.6045],\n",
            "        [ 2.0186, -0.0920, -0.5726, -0.5973,  0.5528,  0.5218],\n",
            "        [-0.4066, -1.9056,  0.4173, -0.3047,  0.1401,  0.8185],\n",
            "        [ 0.4693,  1.3552,  1.8260,  0.7042, -0.8831, -2.4988]],\n",
            "       dtype=torch.float64)\n",
            "tensor([[  0,   0,   0,   0,   0,   0],\n",
            "        [255,   0, 255,   0,   1,   0],\n",
            "        [  2,   0,   0,   0,   0,   0],\n",
            "        [  0, 255,   0,   0,   0,   0],\n",
            "        [  0,   1,   1,   0,   0, 254]], dtype=torch.uint8)\n"
          ]
        }
      ],
      "source": [
        "t = t.float()   # converts to 32-bit float\n",
        "print(t)\n",
        "t = t.double()  # converts to 64-bit float\n",
        "print(t)\n",
        "t = t.byte()    # converts to unsigned 8-bit integer\n",
        "print(t)"
      ]
    },
    {
      "cell_type": "markdown",
      "metadata": {
        "id": "m9rKoRgekGtl"
      },
      "source": [
        "### Operations on tensors"
      ]
    },
    {
      "cell_type": "markdown",
      "metadata": {
        "id": "BJvcLZa0kGtm"
      },
      "source": [
        "Now that we know how to create tensors, let's create some of the fundamental tensors and see some common operations on them:"
      ]
    },
    {
      "cell_type": "code",
      "execution_count": 20,
      "metadata": {
        "id": "dnd9layukGtm",
        "outputId": "619ed136-7cb5-4255-a6f2-daae584fff66",
        "colab": {
          "base_uri": "https://localhost:8080/"
        }
      },
      "outputs": [
        {
          "output_type": "stream",
          "name": "stdout",
          "text": [
            "tensor(42)\n"
          ]
        }
      ],
      "source": [
        "# Scalars =: creates a tensor with a scalar\n",
        "# (zero-th order tensor,  i.e. just a number)\n",
        "s = torch.tensor(42)\n",
        "print(s)"
      ]
    },
    {
      "cell_type": "markdown",
      "metadata": {
        "id": "tJxIzjr8kGtm"
      },
      "source": [
        "**Tip**: a very convenient to access scalars is with `.item()`:"
      ]
    },
    {
      "cell_type": "code",
      "execution_count": 21,
      "metadata": {
        "id": "hVFpika-kGtn",
        "outputId": "acc58891-d9f2-497b-e83f-feb2d60e2be0",
        "colab": {
          "base_uri": "https://localhost:8080/"
        }
      },
      "outputs": [
        {
          "output_type": "execute_result",
          "data": {
            "text/plain": [
              "42"
            ]
          },
          "metadata": {},
          "execution_count": 21
        }
      ],
      "source": [
        "s.item()"
      ]
    },
    {
      "cell_type": "markdown",
      "metadata": {
        "id": "GqJwbU-IkGtn"
      },
      "source": [
        "Let's see higher-order tensors – remember we can always inspect the dimensionality of a tensor using the `.size()` method:"
      ]
    },
    {
      "cell_type": "code",
      "execution_count": 22,
      "metadata": {
        "id": "fk7G43L7kGtn",
        "outputId": "b31fca70-5371-4671-b1d9-7448f4d8828e",
        "colab": {
          "base_uri": "https://localhost:8080/"
        }
      },
      "outputs": [
        {
          "output_type": "stream",
          "name": "stdout",
          "text": [
            "Row vector:\n",
            "tensor([[1.0524, 0.3519, 0.1171]])\n",
            "with size: torch.Size([1, 3])\n",
            "\n",
            "Column vector:\n",
            "tensor([[-0.5064],\n",
            "        [ 0.1606],\n",
            "        [ 0.9581]])\n",
            "with size: torch.Size([3, 1])\n",
            "\n",
            "Matrix:\n",
            "tensor([[-0.5290, -0.3015,  1.6698],\n",
            "        [-1.9124,  0.8908, -0.1172],\n",
            "        [-1.0101,  1.6317, -0.1546]])\n",
            "with size: torch.Size([3, 3])\n"
          ]
        }
      ],
      "source": [
        "# Row vector\n",
        "x = torch.randn(1,3)\n",
        "print(\"Row vector:\\n{}\\nwith size: {}\\n\".format(x, x.size()))\n",
        "\n",
        "# Column vector\n",
        "v = torch.randn(3,1)\n",
        "print(\"Column vector:\\n{}\\nwith size: {}\\n\".format(v, v.size()))\n",
        "\n",
        "# Matrix\n",
        "A = torch.randn(3, 3)\n",
        "print(\"Matrix:\\n{}\\nwith size: {}\".format(A, A.size()))"
      ]
    },
    {
      "cell_type": "markdown",
      "metadata": {
        "id": "deE7PtF7kGto"
      },
      "source": [
        "A common operation is matrix-vector multiplication (and in general tensor-tensor multiplication). For example, the product $\\mathbf{A}\\mathbf{v} + \\mathbf{b}$ is as follows:"
      ]
    },
    {
      "cell_type": "code",
      "execution_count": 23,
      "metadata": {
        "id": "Dnew1VIOkGto",
        "outputId": "28d3db20-8cab-4cc1-f0ee-69ff8fa8d5cf",
        "colab": {
          "base_uri": "https://localhost:8080/"
        }
      },
      "outputs": [
        {
          "output_type": "stream",
          "name": "stdout",
          "text": [
            "tensor([[1.8193],\n",
            "        [0.9993],\n",
            "        [0.6255]])\n",
            "\n",
            " tensor([[ 2.2225],\n",
            "        [-0.7342],\n",
            "        [ 1.2981]])\n"
          ]
        }
      ],
      "source": [
        "u = torch.matmul(A, v)\n",
        "print(u)\n",
        "b = torch.randn(3,1)\n",
        "y = u + b              # we can also do torch.add(u, b)\n",
        "print('\\n',y)"
      ]
    },
    {
      "cell_type": "markdown",
      "metadata": {
        "id": "EJY7H1kJkGtw"
      },
      "source": [
        "where we retrieve the expected result (a column vector of dimensions 3x1). We can of course compose operations:"
      ]
    },
    {
      "cell_type": "code",
      "execution_count": 24,
      "metadata": {
        "id": "jyiKG4hXkGtx",
        "outputId": "a929596a-f77a-40c5-b610-bb81cffb7304",
        "colab": {
          "base_uri": "https://localhost:8080/"
        }
      },
      "outputs": [
        {
          "output_type": "stream",
          "name": "stdout",
          "text": [
            "2.3395984172821045\n"
          ]
        }
      ],
      "source": [
        "s = torch.matmul(x, torch.matmul(A, v))\n",
        "print(s.item())"
      ]
    },
    {
      "cell_type": "markdown",
      "metadata": {
        "id": "8ZD9J01RkGty"
      },
      "source": [
        "There are many functions implemented for every tensor, and we encourage you to study the documentation. Some of the most common ones:"
      ]
    },
    {
      "cell_type": "code",
      "execution_count": 25,
      "metadata": {
        "id": "pH0DMidfkGtz",
        "outputId": "976f766a-5977-4ef2-e885-b09580cc2722",
        "colab": {
          "base_uri": "https://localhost:8080/"
        }
      },
      "outputs": [
        {
          "output_type": "execute_result",
          "data": {
            "text/plain": [
              "tensor([[0, 1, 2],\n",
              "        [0, 1, 2]])"
            ]
          },
          "metadata": {},
          "execution_count": 25
        }
      ],
      "source": [
        "# common tensor methods (they also have the counterpart in\n",
        "# the torch package, e.g. as torch.sum(t))\n",
        "t = torch.randn(2,3)\n",
        "t.sum(dim=0)\n",
        "t.t()                   # transpose\n",
        "t.numel()               # number of elements in tensor\n",
        "t.nonzero()             # indices of non-zero elements\n",
        "t.view(-1, 2)           # reorganizes the tensor to these dimensions\n",
        "t.squeeze()             # removes size 1 dimensions\n",
        "t.unsqueeze(0)          # inserts a dimension\n",
        "\n",
        "# operations in the package\n",
        "torch.arange(0, 10)     # tensor([0, 1, 2, 3, 4, 5, 6, 7, 8, 9])\n",
        "torch.eye(3, 3)         # creates a 3x3 matrix with 1s in the diagonal (identity in this case)\n",
        "t = torch.arange(0, 3)\n",
        "torch.cat((t, t))       # tensor([0, 1, 2, 0, 1, 2])\n",
        "torch.stack((t, t))     # tensor([[0, 1, 2],\n",
        "                        #         [0, 1, 2]])"
      ]
    },
    {
      "cell_type": "markdown",
      "metadata": {
        "id": "S0jjlCqCkGtz"
      },
      "source": [
        "## GPU computation"
      ]
    },
    {
      "cell_type": "markdown",
      "metadata": {
        "id": "6HBkIAH8kGt0"
      },
      "source": [
        "Deep Learning frameworks take advantage of the powerful computational capabilities of modern graphic processing units (GPUs). GPUs were originally designed to perform frequent operations for graphics very efficiently and fast, such as linear algebra operations, which makes them ideal for our interests. PyTorch makes it very easy to use the GPU: the common scenario is to tell the framework that we want to instantiate a tensor with a type that makes it a GPU tensor, or move a given CPU tensor to the GPU. All the tensors that we have seen above are CPU tensors, and PyTorch has the counterparts for GPU tensors in the `torch.cuda` module. Let's see how this works.\n",
        "\n",
        "A common way to explicitly declare the tensor type as a GPU tensor is through the use of the constructor method for tensor creation inside the `torch.cuda` module:"
      ]
    },
    {
      "cell_type": "code",
      "execution_count": 26,
      "metadata": {
        "id": "4QNGP0nBkGt0"
      },
      "outputs": [],
      "source": [
        "try:\n",
        "    t_gpu = torch.cuda.FloatTensor(3, 3)   # creation of a GPU tensor\n",
        "    t_gpu.zero_()                          # initialization to zero\n",
        "except TypeError as err:\n",
        "    print(err)"
      ]
    },
    {
      "cell_type": "markdown",
      "metadata": {
        "id": "wq08yjWykGt1"
      },
      "source": [
        "However, a more common approach that gives us flexibility is through the use of devices. A device in PyTorch refers to either the CPU (indicated by the string \"cpu\") or one of the possible GPU cards in the machine (indicated by the string \"cuda:$n$\", where $n$ is the index of the card). Let's create a random gaussian matrix using a method from the `torch` package, and set the computational device to be the GPU by specifying the `device` to be `cuda:0`, the first GPU card in our machine (this code will fail if you don't have a GPU, but we will work around that below): "
      ]
    },
    {
      "cell_type": "code",
      "execution_count": 27,
      "metadata": {
        "id": "lK1D8rZ0kGt1",
        "outputId": "ca7ff047-48b4-4a5f-fa3f-186214698a71",
        "colab": {
          "base_uri": "https://localhost:8080/"
        }
      },
      "outputs": [
        {
          "output_type": "execute_result",
          "data": {
            "text/plain": [
              "tensor([[-1.0586,  1.2332,  0.6459],\n",
              "        [ 0.5562, -0.0969, -1.3024],\n",
              "        [ 1.5690, -0.0602,  1.7472]], device='cuda:0')"
            ]
          },
          "metadata": {},
          "execution_count": 27
        }
      ],
      "source": [
        "try:\n",
        "    t_gpu = torch.randn(3, 3, device=\"cuda:0\")\n",
        "except AssertionError as err:\n",
        "    print(err)\n",
        "    t_gpu = None\n",
        "\n",
        "t_gpu"
      ]
    },
    {
      "cell_type": "markdown",
      "metadata": {
        "id": "v5DVH6wUkGt2"
      },
      "source": [
        "As you can notice, the tensor now has the explicit device set to be a CUDA device, not a CPU device. Let's now create a tensor in the CPU and move it to the GPU:\n",
        "    "
      ]
    },
    {
      "cell_type": "code",
      "execution_count": 28,
      "metadata": {
        "id": "jJ1narhrkGt2",
        "outputId": "14c6ff92-07c4-4f3b-c413-345a777c3bef",
        "colab": {
          "base_uri": "https://localhost:8080/"
        }
      },
      "outputs": [
        {
          "output_type": "execute_result",
          "data": {
            "text/plain": [
              "tensor([[ 0.8069,  0.7194, -1.3806],\n",
              "        [ 0.2719, -0.8019, -0.9624],\n",
              "        [-0.2426, -1.4266, -1.4730]])"
            ]
          },
          "metadata": {},
          "execution_count": 28
        }
      ],
      "source": [
        "# we could also state explicitly the device to be the\n",
        "# CPU with torch.randn(3,3,device=\"cpu\")\n",
        "t = torch.randn(3, 3)\n",
        "t"
      ]
    },
    {
      "cell_type": "markdown",
      "metadata": {
        "id": "lTKi3w5LkGt2"
      },
      "source": [
        "In this case, the device is the CPU, but PyTorch does not explicitly say that given that this is the default behavior. To copy the tensor to the GPU we use the `.to()` method that every tensor implements, passing the device as an argument. This method creates a copy in the specified device or, if the tensor already resides in that device, it returns the original tensor ([Lapan 2018](#References)): "
      ]
    },
    {
      "cell_type": "code",
      "execution_count": 29,
      "metadata": {
        "id": "4qxs3YkCkGt3",
        "outputId": "08399b7a-750b-4cba-fb38-02b95e6d3711",
        "colab": {
          "base_uri": "https://localhost:8080/"
        }
      },
      "outputs": [
        {
          "output_type": "stream",
          "name": "stdout",
          "text": [
            "tensor([[ 0.8069,  0.7194, -1.3806],\n",
            "        [ 0.2719, -0.8019, -0.9624],\n",
            "        [-0.2426, -1.4266, -1.4730]], device='cuda:0')\n",
            "cuda:0\n"
          ]
        }
      ],
      "source": [
        "try:\n",
        "    t_gpu = t.to(\"cuda:0\")  # copies the tensor from CPU to GPU\n",
        "    # note that if we do now t_to_gpu.to(\"cuda:0\") it will\n",
        "    # return the same tensor without doing anything else\n",
        "    # as this tensor already resides on the GPU\n",
        "    print(t_gpu)\n",
        "    print(t_gpu.device)\n",
        "except AssertionError as err:\n",
        "    print(err)"
      ]
    },
    {
      "cell_type": "markdown",
      "metadata": {
        "id": "DpcYbTRukGt3"
      },
      "source": [
        "**Tip**: When we program PyTorch models, we will have to specify the device in several places (not so many, but definitely more than once). A good practice that is consistent accross the implementation and makes the code more portable is to declare early in the code a device variable by querying the framework if there is a GPU available that we can use. We can do this by writing"
      ]
    },
    {
      "cell_type": "code",
      "execution_count": 30,
      "metadata": {
        "id": "IZtRP6N8kGt3",
        "outputId": "8100fe15-4ed0-4f88-d532-aad727103186",
        "colab": {
          "base_uri": "https://localhost:8080/"
        }
      },
      "outputs": [
        {
          "output_type": "stream",
          "name": "stdout",
          "text": [
            "cuda:0\n"
          ]
        }
      ],
      "source": [
        "device = torch.device(\"cuda:0\") if torch.cuda.is_available() else torch.device(\"cpu\")\n",
        "print(device)"
      ]
    },
    {
      "cell_type": "markdown",
      "metadata": {
        "id": "ksJr1vhNkGt4"
      },
      "source": [
        "We can then use `device` as an argument of the `.to()` method in the rest of our code:"
      ]
    },
    {
      "cell_type": "code",
      "execution_count": 31,
      "metadata": {
        "id": "DkQ92mPekGt4",
        "outputId": "e145ed6f-600e-47cf-f26d-ddc84904860f",
        "colab": {
          "base_uri": "https://localhost:8080/"
        }
      },
      "outputs": [
        {
          "output_type": "execute_result",
          "data": {
            "text/plain": [
              "tensor([[ 0.8069,  0.7194, -1.3806],\n",
              "        [ 0.2719, -0.8019, -0.9624],\n",
              "        [-0.2426, -1.4266, -1.4730]], device='cuda:0')"
            ]
          },
          "metadata": {},
          "execution_count": 31
        }
      ],
      "source": [
        "# moves t to the device (this code will **not** fail if the\n",
        "# local machine has not access to a GPU)\n",
        "t.to(device)"
      ]
    },
    {
      "cell_type": "markdown",
      "metadata": {
        "id": "7_aedLeOkGt5"
      },
      "source": [
        "**Side note**: having good GPU backend support is a critical aspect of a deep learning framework. Some models depend crucially on performing computations on a GPU. Most frameworks, including PyTorch, only provide good support for GPUs manufactured by Nvidia. This is mostly due to the heavy investment this company made on CUDA (Compute Unified Device Architecture), the underlying parallel computing platform that enables this type of scientific computing (and the reason for the device label), with specific implementations targeted to Deep Neural Networks as cuDNN. Other GPU manufacturers, most notably AMD, are making efforts to towards enabling ML computing in their cards, but their support is still partial."
      ]
    },
    {
      "cell_type": "markdown",
      "metadata": {
        "id": "uKh4-TwrkGt5"
      },
      "source": [
        "## Neural network foundations"
      ]
    },
    {
      "cell_type": "markdown",
      "metadata": {
        "id": "113guNOqkGt5"
      },
      "source": [
        "Computing gradients is a crucial feature in deep learning, given that the training procedure of neural networks relies on optimization techniques that update the parameters of the model by using the gradient information of a scalar magnitude – the loss function. How is it possible to compute the derivatives? There are different methods, namely\n",
        "\n",
        "- **Symbolic Differentiation**: given a symbolic expression, the software provides the derivative by performing symbolic transformations (e.g. Wolfram Alpha). The benefits are clear, but it is not always possible to compute an analytical expression.\n",
        "\n",
        "- **Numerical Differentiation**: computes the derivatives using expressions that are suitable to be evaluated numerically, using the finite differences method to several orders of approximation. A big drawback is that these methods are slow.\n",
        "\n",
        "- **Automatic Differentiation**: a library adds to the set of functional primitives an implementation of the derivative for each of these functions. Thus, if the library contains the function $sin(x)$, it also implements the derivative of this function, $\\frac{d}{dx}sin(x) = cos(x)$. Then, given a composition of functions, the library can compute the derivative with respect a variable by successive application of the chain rule, a method that is known in deep learning as backpropagation."
      ]
    },
    {
      "cell_type": "markdown",
      "metadata": {
        "id": "aY1JOZJrkGt5"
      },
      "source": [
        "### Automatic differentiation"
      ]
    },
    {
      "cell_type": "markdown",
      "metadata": {
        "id": "IYDsj3vnkGt6"
      },
      "source": [
        "Modern deep learning libraries are capable of performing automatic differentiation. The two main approaches to computing the graph are _static_ and _dynamic_ processing ([Lapan 2018](#References)):\n",
        "\n",
        "- **Static graphs**: the deep learning framework converts the computational graph into a static representation that cannot be modified. This allows the library developers to do very aggressive optimizations on this static graph ahead of computation time, pruning some areas and transforming others so that the final product is highly optimized and fast. The drawback is that some models can be really hard to implement with this approach. **For example, TensorFlow uses static graphs. Having static graphs is part of the reason why TensorFlow has excellent support for sequence processing, which makes it very popular in NLP.**\n",
        "\n",
        "- **Dynamic graphs**: the framework does not create a graph ahead of computation, but records the operations that are performed, which can be quite different for different inputs. When it is time to compute the gradients, it unrolls the graph and perform the computations. A major benefit of this approach is that implementing complex models can be easier in this paradigm. **This flexibility comes at the expense of the major drawback of this approach: speed**. Dynamic graphs cannot leverage the same level of ahead-of-time optimization as static graphs, which makes them slower. *PyTorch uses dynamic graphs as the underlying paradigm for gradient computation.*"
      ]
    },
    {
      "cell_type": "markdown",
      "metadata": {
        "id": "0kCNcfXEkGt6"
      },
      "source": [
        "Here is simple graph to compute $y = wx + b$ (from [Rao and MacMahan 2019](#References-and-Further-Reading)):"
      ]
    },
    {
      "cell_type": "markdown",
      "metadata": {
        "id": "IRpoP6K9kGt6"
      },
      "source": [
        "<img src=\"https://github.com/MikelKN/Standford_NLU_Spring_2021_CS224U/blob/master/fig/simple_computation_graph.png?raw=1\" width=500 />"
      ]
    },
    {
      "cell_type": "markdown",
      "metadata": {
        "id": "2shq8_g8kGt6"
      },
      "source": [
        "PyTorch computes the graph using the **Autograd system**. Autograd records a graph when performing the forward pass (function application), keeping track of all the tensors defined as inputs. These are the leaves of the graph. The output tensors are the roots of the graph. By navigating this graph from root to leaves, the gradients are automatically computed using the chain rule. In summary,\n",
        "\n",
        "- Forward pass (the successive function application) goes from leaves to root. We use the `apply` method in PyTorch.\n",
        "- Once the forward pass is completed, Autograd has recorded the graph and the backward pass (chain rule) can be done. We use the method `backwards` on the root of the graph."
      ]
    },
    {
      "cell_type": "markdown",
      "metadata": {
        "id": "4YWdLcMxkGt7"
      },
      "source": [
        "### Modules"
      ]
    },
    {
      "cell_type": "markdown",
      "metadata": {
        "id": "ziLYXFfmkGt7"
      },
      "source": [
        "The base implementation for all neural network models in PyTorch is the class `Module` in the package `torch.nn`:"
      ]
    },
    {
      "cell_type": "code",
      "execution_count": 32,
      "metadata": {
        "id": "9V1v5PkTkGt7"
      },
      "outputs": [],
      "source": [
        "import torch.nn as nn"
      ]
    },
    {
      "cell_type": "markdown",
      "metadata": {
        "id": "qgFXwOG0kGt8"
      },
      "source": [
        "All our models subclass this base `nn.Module` class, which provides an interface to important methods used for constructing and working with our models, and which contains sensible initializations for our models. Modules can contain other modules (and usually do).\n",
        "\n",
        "Let's see a simple, custom implementation of a multi-layer feed forward network. In the example below, our simple mathematical model is\n",
        "\n",
        "$$\\mathbf{y} = \\mathbf{U}(f(\\mathbf{W}(\\mathbf{x})))$$\n",
        "\n",
        "where $f$ is a non-linear function (a `ReLU`), is directly translated into a similar expression in PyTorch. To do that, we simply subclass `nn.Module`, register the two affine transformations and the non-linearity, and implement their composition within the `forward` method:"
      ]
    },
    {
      "cell_type": "code",
      "execution_count": 33,
      "metadata": {
        "id": "WqmxlYqRkGt8"
      },
      "outputs": [],
      "source": [
        "class MyCustomModule(nn.Module):\n",
        "    def __init__(self, n_inputs, n_hidden, n_output_classes):\n",
        "        # call super to initialize the class above in the hierarchy\n",
        "        super(MyCustomModule, self).__init__()\n",
        "        # first affine transformation\n",
        "        self.W = nn.Linear(n_inputs, n_hidden)\n",
        "        # non-linearity (here it is also a layer!)\n",
        "        self.f = nn.ReLU()\n",
        "        # final affine transformation\n",
        "        self.U = nn.Linear(n_hidden, n_output_classes)\n",
        "\n",
        "    def forward(self, x):\n",
        "        y = self.U(self.f(self.W(x)))\n",
        "        return y"
      ]
    },
    {
      "cell_type": "markdown",
      "metadata": {
        "id": "KIc86EI-kGt9"
      },
      "source": [
        "Then, we can use our new module as follows:"
      ]
    },
    {
      "cell_type": "code",
      "execution_count": 34,
      "metadata": {
        "id": "UpUVSFS8kGt9",
        "outputId": "886f07d7-1bd2-4ef9-bba1-d38a1b6b9c9a",
        "colab": {
          "base_uri": "https://localhost:8080/"
        }
      },
      "outputs": [
        {
          "output_type": "stream",
          "name": "stdout",
          "text": [
            "tensor([[-0.0424,  0.2628]], grad_fn=<AddmmBackward0>)\n"
          ]
        }
      ],
      "source": [
        "# set the network's architectural parameters\n",
        "n_inputs = 3\n",
        "n_hidden= 4\n",
        "n_output_classes = 2\n",
        "\n",
        "# instantiate the model\n",
        "model = MyCustomModule(n_inputs, n_hidden, n_output_classes)\n",
        "\n",
        "# create a simple input tensor\n",
        "# size is [1,3]: a mini-batch of one example,\n",
        "# this example having dimension 3\n",
        "x = torch.FloatTensor([[0.3, 0.8, -0.4]])\n",
        "\n",
        "# compute the model output by **applying** the input to the module\n",
        "y = model(x)\n",
        "\n",
        "# inspect the output\n",
        "print(y)"
      ]
    },
    {
      "cell_type": "markdown",
      "metadata": {
        "id": "S-sGtOMHkGt-"
      },
      "source": [
        "As we see, the output is a tensor with its gradient function attached – Autograd tracks it for us."
      ]
    },
    {
      "cell_type": "markdown",
      "metadata": {
        "id": "jm0D51RrkGt_"
      },
      "source": [
        "**Tip**: modules overrides the `__call__()` method, where the framework does some work. Thus, instead of directly calling the `forward()` method, we apply the input to the model instead."
      ]
    },
    {
      "cell_type": "markdown",
      "metadata": {
        "id": "XQB-ZvnqkGt_"
      },
      "source": [
        "### Sequential"
      ]
    },
    {
      "cell_type": "markdown",
      "metadata": {
        "id": "3gNxs01gkGt_"
      },
      "source": [
        "A powerful class in the `nn` package is `Sequential`, which allows us to express the code above more succinctly:"
      ]
    },
    {
      "cell_type": "code",
      "execution_count": 35,
      "metadata": {
        "id": "Ff1BJfIakGuA"
      },
      "outputs": [],
      "source": [
        "class MyCustomModule(nn.Module):\n",
        "    def __init__(self, n_inputs, n_hidden, n_output_classes):\n",
        "        super(MyCustomModule, self).__init__()\n",
        "        self.network = nn.Sequential(\n",
        "            nn.Linear(n_inputs, n_hidden),\n",
        "            nn.ReLU(),\n",
        "            nn.Linear(n_hidden, n_output_classes))\n",
        "\n",
        "    def forward(self, x):\n",
        "        y = self.network(x)\n",
        "        return y"
      ]
    },
    {
      "cell_type": "markdown",
      "metadata": {
        "id": "XF83Lr9TkGuA"
      },
      "source": [
        "As you can imagine, this can be handy when we have a large number of layers for which the actual names are not that meaningful. It also improves readability:"
      ]
    },
    {
      "cell_type": "code",
      "execution_count": 36,
      "metadata": {
        "id": "uzGoGpCpkGuA"
      },
      "outputs": [],
      "source": [
        "class MyCustomModule(nn.Module):\n",
        "    def __init__(self, n_inputs, n_hidden, n_output_classes):\n",
        "        super(MyCustomModule, self).__init__()\n",
        "        self.p_keep = 0.7\n",
        "        self.network = nn.Sequential(\n",
        "            nn.Linear(n_inputs, n_hidden),\n",
        "            nn.ReLU(),\n",
        "            nn.Linear(n_hidden, 2*n_hidden),\n",
        "            nn.ReLU(),\n",
        "            nn.Linear(2*n_hidden, n_output_classes),\n",
        "            # dropout argument is probability of dropping\n",
        "            nn.Dropout(1 - self.p_keep),\n",
        "            # applies softmax in the data dimension\n",
        "            nn.Softmax(dim=1)\n",
        "        )\n",
        "\n",
        "    def forward(self, x):\n",
        "        y = self.network(x)\n",
        "        return y"
      ]
    },
    {
      "cell_type": "markdown",
      "metadata": {
        "id": "-udfD3qwkGuB"
      },
      "source": [
        "**Side note**: Another important package in `torch.nn` is `Functional`, typically imported as `F`. `Functional` **contains many useful functions, from non-linear activations to convolutional, dropout, and even distance functions**. Many of these functions have counterpart implementations as layers in the `nn` package so that they can be easily used in pipelines like the one above implemented using `nn.Sequential`."
      ]
    },
    {
      "cell_type": "code",
      "execution_count": 37,
      "metadata": {
        "id": "2x8H1IAFkGuB",
        "outputId": "bdc63e39-9a5f-4c0a-9734-4963f61ef8d9",
        "colab": {
          "base_uri": "https://localhost:8080/"
        }
      },
      "outputs": [
        {
          "output_type": "execute_result",
          "data": {
            "text/plain": [
              "tensor([[0., 0., 0., 5.]])"
            ]
          },
          "metadata": {},
          "execution_count": 37
        }
      ],
      "source": [
        "import torch.nn.functional as F\n",
        "\n",
        "y = F.relu(torch.FloatTensor([[-5, -1, 0, 5]]))\n",
        "\n",
        "y"
      ]
    },
    {
      "cell_type": "markdown",
      "metadata": {
        "id": "-3_VyG9qkGuC"
      },
      "source": [
        "### Criteria and loss functions"
      ]
    },
    {
      "cell_type": "markdown",
      "metadata": {
        "id": "40O_vXx5kGuC"
      },
      "source": [
        "PyTorch has implementations for the most common criteria in the `torch.nn` package. You may notice that, as with many of the other functions, there are two implementations of loss functions: the reference functions in `torch.nn.functional` and practical class in `torch.nn`, which are the ones we typically use. Probably the two most common ones are ([Lapan 2018](#References)):\n",
        "\n",
        "- `nn.MSELoss` (mean squared error): squared $L_2$ norm used for regression.\n",
        "- `nn.CrossEntropyLoss`: criterion used for classification as the result of combining `nn.LogSoftmax()` and `nn.NLLLoss()` (negative log likelihood), operating on the input scores directly. When possible, we recommend using this class instead of using a softmax layer plus a log conversion and `nn.NLLLoss`, given that the `LossSoftmax` implementation guards against common numerical errors, resulting in less instabilities.\n",
        "\n",
        "Once our model produces a prediction, we pass it to the criteria to obtain a measure of the loss:"
      ]
    },
    {
      "cell_type": "code",
      "execution_count": 38,
      "metadata": {
        "id": "2bMeAQMokGuC",
        "outputId": "eaa0cad3-ab0e-4900-fc1a-5ce0f14cef6e",
        "colab": {
          "base_uri": "https://localhost:8080/"
        }
      },
      "outputs": [
        {
          "output_type": "stream",
          "name": "stdout",
          "text": [
            "tensor(0.5521, grad_fn=<NllLossBackward0>)\n"
          ]
        }
      ],
      "source": [
        "# the true label (in this case, 2) from our dataset wrapped\n",
        "# as a tensor of minibatch size of 1\n",
        "y_gold = torch.tensor([1])\n",
        "\n",
        "# our simple classification criterion for this simple example\n",
        "criterion = nn.CrossEntropyLoss()\n",
        "\n",
        "# forward pass of our model (remember, using apply instead of forward)\n",
        "y = model(x)\n",
        "\n",
        "# apply the criterion to get the loss corresponding to the pair (x, y)\n",
        "# with respect to the real y (y_gold)\n",
        "loss = criterion(y, y_gold)\n",
        "\n",
        "\n",
        "# the loss contains a gradient function that we can use to compute\n",
        "# the gradient dL/dw (gradient with respect to the parameters\n",
        "# for a given fixed input)\n",
        "print(loss)"
      ]
    },
    {
      "cell_type": "markdown",
      "metadata": {
        "id": "FOLTOm-akGuC"
      },
      "source": [
        "### Optimization"
      ]
    },
    {
      "cell_type": "markdown",
      "metadata": {
        "id": "c9-NqhB5kGuD"
      },
      "source": [
        "Once we have computed the loss for a training example or minibatch of examples, we update the parameters of the model guided by the information contained in the gradient. The role of updating the parameters belongs to the optimizer, and PyTorch has a number of implementations available right away – and if you don't find your preferred optimizer as part of the library, chances are that you will find an existing implementation. Also, coding your own optimizer is indeed quite easy in PyTorch.\n",
        "\n",
        "**Side Note** The following is a summary of the most common optimizers. It is intended to serve as a reference (I use this table myself quite a lot). In practice, most people pick an optimizer that has been proven to behave well on a given domain, but optimizers are also a very active area of research on numerical analysis, so it is a good idea to pay some attention to this subfield. **We recommend using second-order dynamics with an adaptive time step**:\n",
        "\n",
        "- First-order dynamics\n",
        "    - Search direction only: `optim.SGD`\n",
        "    - Adaptive: `optim.RMSprop`, `optim.Adagrad`, `optim.Adadelta`\n",
        "    \n",
        "- Second-order dynamics\n",
        "    - Search direction only: Momentum `optim.SGD(momentum=0.9)`, Nesterov, `optim.SGD(nesterov=True)`\n",
        "    - ***Adaptive***: `optim.Adam`, `optim.Adamax` (Adam with $L_\\infty$)"
      ]
    },
    {
      "cell_type": "markdown",
      "source": [
        ""
      ],
      "metadata": {
        "id": "kjoMpOosyF6C"
      }
    },
    {
      "cell_type": "markdown",
      "metadata": {
        "id": "XOtWeplmkGuD"
      },
      "source": [
        "### Training a simple model"
      ]
    },
    {
      "cell_type": "markdown",
      "metadata": {
        "id": "nV_7AhO1kGuD"
      },
      "source": [
        "In order to illustrate the different concepts and techniques above, let's put them together in a very simple example: our objective will be to fit a very simple non-linear function, a sine wave:\n",
        "\n",
        "$$y = a \\sin(x + \\phi)$$\n",
        "\n",
        "where $a, \\phi$ are the given amplitude and phase of the sine function. Our objective is to learn to adjust this function using a feed forward network, this is:\n",
        "\n",
        "$$ \\hat{y} = f(x)$$\n",
        "\n",
        "such that the error between $y$ and $\\hat{y}$ is minimal according to our criterion. A natural criterion is to minimize the squared distance between the actual value of the sine wave and the value predicted by our function approximator, measured using the $L_2$ norm.\n",
        "\n",
        "**Side Note**: Although this example is easy, simple variations of this setting can pose a big challenge, and are used currently to illustrate difficult problems in learning, especially in a very active subfield known as meta-learning."
      ]
    },
    {
      "cell_type": "markdown",
      "metadata": {
        "id": "yU1LkCOdkGuE"
      },
      "source": [
        "Let's import all the modules that we are going to need:"
      ]
    },
    {
      "cell_type": "code",
      "execution_count": 39,
      "metadata": {
        "id": "roj_zoHPkGuE"
      },
      "outputs": [],
      "source": [
        "import torch\n",
        "import torch.nn as nn\n",
        "import torch.nn.functional as F\n",
        "import torch.utils.data as data\n",
        "import numpy as np\n",
        "import matplotlib.pyplot as plt\n",
        "import math"
      ]
    },
    {
      "cell_type": "markdown",
      "metadata": {
        "id": "7WmvKppgkGuE"
      },
      "source": [
        "Early on the code, we define the device that we want to use:"
      ]
    },
    {
      "cell_type": "code",
      "execution_count": 40,
      "metadata": {
        "id": "gKRkhhjakGuE"
      },
      "outputs": [],
      "source": [
        "device = torch.device(\"cuda:0\") if torch.cuda.is_available() else torch.device(\"cpu\")"
      ]
    },
    {
      "cell_type": "markdown",
      "metadata": {
        "id": "0fg3O9QXkGuF"
      },
      "source": [
        "Let's fix $a=1$, $\\phi=1$ and generate traning data in the interval $x \\in [0,2\\pi)$ using NumPy:"
      ]
    },
    {
      "cell_type": "code",
      "execution_count": 41,
      "metadata": {
        "id": "IDLDYhxwkGuF",
        "outputId": "c0a5ad6a-feea-42a0-dab2-e0247598d33b",
        "colab": {
          "base_uri": "https://localhost:8080/",
          "height": 265
        }
      },
      "outputs": [
        {
          "output_type": "display_data",
          "data": {
            "image/png": "[encoded data removed]",
            "text/plain": [
              "<Figure size 432x288 with 1 Axes>"
            ]
          },
          "metadata": {
            "needs_background": "light"
          }
        }
      ],
      "source": [
        "M = 1200\n",
        "\n",
        "# sample from the x axis M points\n",
        "x = np.random.rand(M) * 2*math.pi\n",
        "\n",
        "# add noise\n",
        "eta = np.random.rand(M) * 0.01\n",
        "\n",
        "# compute the function\n",
        "y = np.sin(x) + eta\n",
        "\n",
        "# plot\n",
        "_ = plt.scatter(x,y)"
      ]
    },
    {
      "cell_type": "code",
      "source": [
        "x_train = torch.tensor(x[0:1000]) #creats a 1000 row tensor\n",
        "x_train[:10]   #Lets observe the first 10 element in the tensor"
      ],
      "metadata": {
        "id": "gs3ub-4ez-Xs",
        "outputId": "85a59f18-a9f8-4dde-8452-33ca7e8cec8e",
        "colab": {
          "base_uri": "https://localhost:8080/"
        }
      },
      "execution_count": 46,
      "outputs": [
        {
          "output_type": "execute_result",
          "data": {
            "text/plain": [
              "tensor([3.2900, 1.5190, 5.2026, 5.2223, 0.0729, 1.6065, 5.3385, 2.8575, 1.6346,\n",
              "        3.3593], dtype=torch.float64)"
            ]
          },
          "metadata": {},
          "execution_count": 46
        }
      ]
    },
    {
      "cell_type": "code",
      "source": [
        "x_train = torch.tensor(x[0:1000]).float() #Converts the tensors to 32 bit floats\n",
        "x_train[:10]"
      ],
      "metadata": {
        "id": "lD5oCTe10Bay",
        "outputId": "66394880-5056-4208-eace-03fcab160df6",
        "colab": {
          "base_uri": "https://localhost:8080/"
        }
      },
      "execution_count": 47,
      "outputs": [
        {
          "output_type": "execute_result",
          "data": {
            "text/plain": [
              "tensor([3.2900, 1.5190, 5.2026, 5.2223, 0.0729, 1.6065, 5.3385, 2.8575, 1.6346,\n",
              "        3.3593])"
            ]
          },
          "metadata": {},
          "execution_count": 47
        }
      ]
    },
    {
      "cell_type": "code",
      "source": [
        "x_train[:10].view(-1, 1) # Works a little like np.reshape\n",
        "#For more infor on the .View(-1) from pytorch -> https://stackoverflow.com/questions/50792316/what-does-1-mean-in-pytorch-view"
      ],
      "metadata": {
        "id": "SZMVEULS0J4R",
        "outputId": "d6e2e6c5-1f38-487d-b505-b3d26c45b7f4",
        "colab": {
          "base_uri": "https://localhost:8080/"
        }
      },
      "execution_count": 50,
      "outputs": [
        {
          "output_type": "execute_result",
          "data": {
            "text/plain": [
              "tensor([[3.2900],\n",
              "        [1.5190],\n",
              "        [5.2026],\n",
              "        [5.2223],\n",
              "        [0.0729],\n",
              "        [1.6065],\n",
              "        [5.3385],\n",
              "        [2.8575],\n",
              "        [1.6346],\n",
              "        [3.3593]])"
            ]
          },
          "metadata": {},
          "execution_count": 50
        }
      ]
    },
    {
      "cell_type": "code",
      "source": [
        "x_train[:10].view(-1, 1).to(device) #move a tensor to a device(the CUDA GPU in this case)"
      ],
      "metadata": {
        "id": "wqFyHZkI2N29",
        "outputId": "bcb4cae3-0260-4dc2-df4a-8d0d5169331f",
        "colab": {
          "base_uri": "https://localhost:8080/"
        }
      },
      "execution_count": 51,
      "outputs": [
        {
          "output_type": "execute_result",
          "data": {
            "text/plain": [
              "tensor([[3.2900],\n",
              "        [1.5190],\n",
              "        [5.2026],\n",
              "        [5.2223],\n",
              "        [0.0729],\n",
              "        [1.6065],\n",
              "        [5.3385],\n",
              "        [2.8575],\n",
              "        [1.6346],\n",
              "        [3.3593]], device='cuda:0')"
            ]
          },
          "metadata": {},
          "execution_count": 51
        }
      ]
    },
    {
      "cell_type": "code",
      "execution_count": 52,
      "metadata": {
        "id": "0jr5s1uzkGuF"
      },
      "outputs": [],
      "source": [
        "# use the NumPy-PyTorch bridge\n",
        "x_train = torch.tensor(x[0:1000]).float().view(-1, 1).to(device)\n",
        "y_train = torch.tensor(y[0:1000]).float().view(-1, 1).to(device)\n",
        "\n",
        "x_test = torch.tensor(x[1000:]).float().view(-1, 1).to(device)\n",
        "y_test = torch.tensor(y[1000:]).float().view(-1, 1).to(device)"
      ]
    },
    {
      "cell_type": "code",
      "execution_count": 56,
      "metadata": {
        "id": "zjxmrP3okGuG"
      },
      "outputs": [],
      "source": [
        "class SineDataset(data.Dataset):\n",
        "    def __init__(self, x, y):\n",
        "        super(SineDataset, self).__init__()\n",
        "        assert x.shape[0] == y.shape[0]\n",
        "        self.x = x\n",
        "        self.y = y\n",
        "\n",
        "    def __len__(self):\n",
        "        return self.y.shape[0]\n",
        "\n",
        "    def __getitem__(self, index):\n",
        "        return self.x[index], self.y[index]\n",
        "\n",
        "sine_dataset = SineDataset(x_train, y_train) #Gets the train sets\n",
        "\n",
        "sine_dataset_test = SineDataset(x_test, y_test)#gets the test sets"
      ]
    },
    {
      "cell_type": "code",
      "source": [
        "# Dataloaders : represents a Python iterable over a dataset\n",
        "#I.e feeds the data to the model in small chunks of size 32 in this case\n",
        "sine_loader = torch.utils.data.DataLoader(\n",
        "    sine_dataset, batch_size=32, shuffle=True)\n",
        "\n",
        "sine_loader_test = torch.utils.data.DataLoader(\n",
        "    sine_dataset_test, batch_size=32)"
      ],
      "metadata": {
        "id": "oK-SZzfb27cU"
      },
      "execution_count": 57,
      "outputs": []
    },
    {
      "cell_type": "code",
      "execution_count": 58,
      "metadata": {
        "id": "_UWj3J3LkGuG"
      },
      "outputs": [],
      "source": [
        "# Building our Sequential Model \n",
        "class SineModel(nn.Module):\n",
        "    def __init__(self):\n",
        "        super(SineModel, self).__init__()\n",
        "        self.network = nn.Sequential(\n",
        "            nn.Linear(1, 5),\n",
        "            nn.ReLU(),\n",
        "            nn.Linear(5, 5),\n",
        "            nn.ReLU(),\n",
        "            nn.Linear(5, 5),\n",
        "            nn.ReLU(),\n",
        "            nn.Linear(5, 1))\n",
        "\n",
        "    def forward(self, x):\n",
        "        return self.network(x)"
      ]
    },
    {
      "cell_type": "code",
      "execution_count": 59,
      "metadata": {
        "id": "WhkQyiYokGuG",
        "outputId": "61d1896e-af74-4b91-f0a5-439c1ebacf2a",
        "colab": {
          "base_uri": "https://localhost:8080/",
          "height": 265
        }
      },
      "outputs": [
        {
          "output_type": "display_data",
          "data": {
            "image/png": "[encoded data removed]",
            "text/plain": [
              "<Figure size 432x288 with 1 Axes>"
            ]
          },
          "metadata": {
            "needs_background": "light"
          }
        }
      ],
      "source": [
        "# declare the model\n",
        "model = SineModel().to(device)\n",
        "\n",
        "# define the criterion\n",
        "criterion = nn.MSELoss()\n",
        "\n",
        "# select the optimizer and pass to it the parameters of the model it will optimize\n",
        "optimizer = torch.optim.Adam(model.parameters(), lr = 0.01)\n",
        "\n",
        "epochs = 1000\n",
        "\n",
        "# training loop\n",
        "for epoch in range(epochs):\n",
        "    for i, (x_i, y_i) in enumerate(sine_loader):\n",
        "\n",
        "        y_hat_i = model(x_i)            # forward pass\n",
        "\n",
        "        loss = criterion(y_hat_i, y_i)  # compute the loss and perform the backward pass\n",
        "\n",
        "        optimizer.zero_grad()           # cleans the gradients\n",
        "        loss.backward()                 # computes the gradients\n",
        "        optimizer.step()                # update the parameters\n",
        "\n",
        "    if epoch % 20:\n",
        "        plt.scatter(x_i.data.cpu().numpy(), y_hat_i.data.cpu().numpy())"
      ]
    },
    {
      "cell_type": "markdown",
      "source": [
        "# Side: \n",
        "- `model.eval()` notifies all your layers that you are in eval mode, that way, batchnorm or dropout layers will work in eval mode instead of training mode.\n",
        "- `torch.no_grad()` impacts the **autograd engine** and deactivate it. This helps to reduce memory usage and speed up computations but you won’t be able to backprop (which you don’t want in an eval script). It is also the recommended way to perfrom validation in pytorch.\n",
        "\n",
        "[Source](https://discuss.pytorch.org/t/model-eval-vs-with-torch-no-grad/19615)\n"
      ],
      "metadata": {
        "id": "5z6qr-BU4l3J"
      }
    },
    {
      "cell_type": "code",
      "execution_count": 60,
      "metadata": {
        "id": "OHi8QlT1kGuH",
        "outputId": "7be7525f-b13c-41c3-ac6c-fb498e932338",
        "colab": {
          "base_uri": "https://localhost:8080/"
        }
      },
      "outputs": [
        {
          "output_type": "stream",
          "name": "stdout",
          "text": [
            "0.006573777471203357\n"
          ]
        }
      ],
      "source": [
        "# testing\n",
        "with torch.no_grad():\n",
        "    model.eval()\n",
        "    total_loss = 0.\n",
        "    for k, (x_k, y_k) in enumerate(sine_loader_test):\n",
        "        y_hat_k = model(x_k)\n",
        "        loss_test = criterion(y_hat_k, y_k)\n",
        "        total_loss += float(loss_test)\n",
        "\n",
        "print(total_loss)"
      ]
    },
    {
      "cell_type": "markdown",
      "metadata": {
        "id": "ptgGdY_9kGuH"
      },
      "source": [
        "## Reproducibility"
      ]
    },
    {
      "cell_type": "code",
      "execution_count": null,
      "metadata": {
        "id": "_7PdDQrrkGuH"
      },
      "outputs": [],
      "source": [
        "def enforce_reproducibility(seed=42):\n",
        "    # Sets seed manually for both CPU and CUDA\n",
        "    torch.manual_seed(seed)\n",
        "    # For atomic operations there is currently\n",
        "    # no simple way to enforce determinism, as\n",
        "    # the order of parallel operations is not known.\n",
        "    #\n",
        "    # CUDNN\n",
        "    torch.backends.cudnn.deterministic = True\n",
        "    torch.backends.cudnn.benchmark = False\n",
        "    # System based\n",
        "    np.random.seed(seed)\n",
        "\n",
        "enforce_reproducibility()"
      ]
    },
    {
      "cell_type": "markdown",
      "metadata": {
        "id": "BRtkl-czkGuI"
      },
      "source": [
        "The function `utils.fix_random_seeds()` extends the above to the random seeds for NumPy and the Python `random` library."
      ]
    },
    {
      "cell_type": "markdown",
      "metadata": {
        "id": "jCB_CbiFkGuI"
      },
      "source": [
        "## References"
      ]
    },
    {
      "cell_type": "markdown",
      "metadata": {
        "id": "eM3f3uVIkGuI"
      },
      "source": [
        "Lapan, Maxim (2018) *Deep Reinforcement Learning Hands-On*. Birmingham: Packt Publishing\n",
        "\n",
        "Rao, Delip and Brian McMahan (2019) *Natural Language Processing with PyTorch*. Sebastopol, CA: O'Reilly Media"
      ]
    }
  ],
  "metadata": {
    "kernelspec": {
      "display_name": "Python 3",
      "language": "python",
      "name": "python3"
    },
    "language_info": {
      "codemirror_mode": {
        "name": "ipython",
        "version": 3
      },
      "file_extension": ".py",
      "mimetype": "text/x-python",
      "name": "python",
      "nbconvert_exporter": "python",
      "pygments_lexer": "ipython3",
      "version": "3.8.5"
    },
    "colab": {
      "name": "tutorial_pytorch.ipynb",
      "provenance": [],
      "include_colab_link": true
    },
    "accelerator": "GPU"
  },
  "nbformat": 4,
  "nbformat_minor": 0
}